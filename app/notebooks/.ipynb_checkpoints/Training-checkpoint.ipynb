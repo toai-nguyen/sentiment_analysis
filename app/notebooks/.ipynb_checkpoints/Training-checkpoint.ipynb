{
 "cells": [
  {
   "cell_type": "code",
   "execution_count": 2,
   "id": "73804046-6b7b-4603-ad92-32858958fcbe",
   "metadata": {},
   "outputs": [],
   "source": [
    "from pyspark.sql import SparkSession\n",
    "from pyspark.ml import Pipeline\n",
    "from pyspark.ml.feature import Tokenizer, StopWordsRemover, CountVectorizer, IDF\n",
    "from pyspark.ml.classification import LogisticRegression\n",
    "from pyspark.ml.evaluation import MulticlassClassificationEvaluator\n",
    "from pyspark.sql.functions import col, regexp_replace\n",
    "from pyspark.ml.feature import StringIndexer\n",
    "from pyspark import SparkContext, SparkConf\n",
    "from pyspark.sql import SQLContext\n"
   ]
  },
  {
   "cell_type": "code",
   "execution_count": 5,
   "id": "74fa711a-ca9d-4210-a88a-3f097327e6d4",
   "metadata": {},
   "outputs": [
    {
     "name": "stderr",
     "output_type": "stream",
     "text": [
      "25/02/26 06:44:01 WARN Utils: Service 'SparkUI' could not bind on port 4040. Attempting port 4041.\n",
      "25/02/26 06:44:01 WARN Utils: Service 'SparkUI' could not bind on port 4041. Attempting port 4042.\n"
     ]
    }
   ],
   "source": [
    "spark = SparkSession.builder \\\n",
    "    .appName(\"SentimentAnalysis\") \\\n",
    "    .config(\"spark.jars.packages\", \"org.mongodb.spark:mongo-spark-connector_2.12:3.0.1\") \\\n",
    "    .getOrCreate()"
   ]
  },
  {
   "cell_type": "code",
   "execution_count": null,
   "id": "c918cd54",
   "metadata": {},
   "outputs": [],
   "source": [
    "# if 'spark' in locals():\n",
    "#     spark.stop()"
   ]
  },
  {
   "cell_type": "code",
   "execution_count": 6,
   "id": "855b7d7e-c157-487d-8c38-69e05c8dc138",
   "metadata": {
    "scrolled": true
   },
   "outputs": [],
   "source": [
    "import os\n",
    "import pymongo\n",
    "from pymongo import MongoClient\n",
    "mongo_uri = os.environ.get('MONGO_URI')\n",
    "client = MongoClient(mongo_uri)\n",
    "db = client.get_database()\n",
    "collection = db['clean_news']"
   ]
  },
  {
   "cell_type": "code",
   "execution_count": null,
   "id": "d3254383-9de6-466f-87b1-48b0cceeb4f1",
   "metadata": {},
   "outputs": [],
   "source": [
    "#import data from clean_news collection to spark dataframe\n",
    "connection_string = f\"{mongo_uri}.clean_news\"\n",
    "df = spark.read.format(\"mongo\").option(\"uri\", connection_string).load()"
   ]
  },
  {
   "cell_type": "code",
   "execution_count": null,
   "id": "f5b193fe",
   "metadata": {},
   "outputs": [],
   "source": [
    "df.printSchema()\n",
    "df.show(5, truncate=True)"
   ]
  },
  {
   "cell_type": "code",
   "execution_count": 12,
   "id": "3e45d910-201e-4f3d-a863-fef346735e98",
   "metadata": {},
   "outputs": [],
   "source": [
    "# Tokenization\n",
    "tokenizer = Tokenizer(inputCol=\"clean_content\", outputCol=\"words\")\n",
    "\n",
    "# Loại bỏ stop words\n",
    "remover = StopWordsRemover(inputCol=\"words\", outputCol=\"filtered_words\")\n",
    "\n",
    "# Tạo feature vector\n",
    "countVectorizer = CountVectorizer(inputCol=\"filtered_words\", \n",
    "                                outputCol=\"raw_features\", \n",
    "                                minDF=2.0)\n",
    "# TF-IDF\n",
    "idf = IDF(inputCol=\"raw_features\", outputCol=\"features\")\n",
    "\n",
    "# Label Indexing\n",
    "labelIndexer = StringIndexer(inputCol=\"sentiment\", \n",
    "                            outputCol=\"label\")\n",
    "\n",
    "# Mô hình Logistic Regression\n",
    "lr = LogisticRegression(maxIter=20, regParam=0.3, elasticNetParam=0)\n",
    "\n",
    "# Tạo pipeline\n",
    "pipeline = Pipeline(stages=[\n",
    "    tokenizer,\n",
    "    remover,\n",
    "    countVectorizer,\n",
    "    idf,\n",
    "    labelIndexer,\n",
    "    lr\n",
    "])"
   ]
  },
  {
   "cell_type": "code",
   "execution_count": 13,
   "id": "d21108e1-fe90-4506-ae7f-815f41bc73a3",
   "metadata": {},
   "outputs": [
    {
     "name": "stderr",
     "output_type": "stream",
     "text": [
      "25/02/26 06:50:53 WARN InstanceBuilder: Failed to load implementation from:dev.ludovic.netlib.blas.JNIBLAS\n",
      "25/02/26 06:50:53 WARN InstanceBuilder: Failed to load implementation from:dev.ludovic.netlib.blas.VectorBLAS\n"
     ]
    }
   ],
   "source": [
    "# Chia dataset\n",
    "train_data, test_data = df.randomSplit([0.8, 0.2], seed=42)\n",
    "\n",
    "# Tạo và huấn luyện pipeline\n",
    "model = pipeline.fit(train_data)\n",
    "\n",
    "# Dự đoán trên tập test\n",
    "predictions = model.transform(test_data)\n",
    "\n",
    "# Đánh giá mô hình\n",
    "evaluator = MulticlassClassificationEvaluator(\n",
    "    labelCol=\"label\", \n",
    "    predictionCol=\"prediction\", \n",
    "    metricName=\"accuracy\"\n",
    ")\n",
    "accuracy = evaluator.evaluate(predictions)\n"
   ]
  },
  {
   "cell_type": "code",
   "execution_count": 14,
   "id": "8ba5922f-0a2e-41f7-b1f3-64814148dfb9",
   "metadata": {},
   "outputs": [
    {
     "name": "stdout",
     "output_type": "stream",
     "text": [
      "Model Accuracy: 0.723404255319149\n",
      "+--------------------+---------+----------+\n",
      "|       clean_content|sentiment|prediction|\n",
      "+--------------------+---------+----------+\n",
      "|nvl đi trên tham ...| positive|       1.0|\n",
      "|trong báo cáo kết...| positive|       2.0|\n",
      "|vn index hôm nay ...|  neutral|       1.0|\n",
      "|dòng tiền tham gi...| negative|       0.0|\n",
      "|sàn hose đóng cửa...| positive|       1.0|\n",
      "+--------------------+---------+----------+\n",
      "only showing top 5 rows\n",
      "\n"
     ]
    }
   ],
   "source": [
    "print(f\"Model Accuracy: {accuracy}\")\n",
    "\n",
    "# Hiển thị một số dự đoán mẫu\n",
    "predictions.select(\"clean_content\", \"sentiment\", \"prediction\").show(5)"
   ]
  },
  {
   "cell_type": "code",
   "execution_count": 15,
   "id": "7ab17b6a-4f05-4abf-8bef-1dca8a7d5edf",
   "metadata": {},
   "outputs": [
    {
     "name": "stderr",
     "output_type": "stream",
     "text": [
      "                                                                                \r"
     ]
    }
   ],
   "source": [
    "model.write().overwrite().save(\"models/sentiment_model_spark\")"
   ]
  }
 ],
 "metadata": {
  "kernelspec": {
   "display_name": "Python 3 (ipykernel)",
   "language": "python",
   "name": "python3"
  },
  "language_info": {
   "codemirror_mode": {
    "name": "ipython",
    "version": 3
   },
   "file_extension": ".py",
   "mimetype": "text/x-python",
   "name": "python",
   "nbconvert_exporter": "python",
   "pygments_lexer": "ipython3",
   "version": "3.9.21"
  }
 },
 "nbformat": 4,
 "nbformat_minor": 5
}
