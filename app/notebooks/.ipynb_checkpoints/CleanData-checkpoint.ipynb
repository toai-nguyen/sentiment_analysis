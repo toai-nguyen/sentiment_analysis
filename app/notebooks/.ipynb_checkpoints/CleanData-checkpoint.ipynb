{
 "cells": [
  {
   "cell_type": "code",
   "execution_count": 3,
   "id": "d088ebef",
   "metadata": {},
   "outputs": [
    {
     "name": "stderr",
     "output_type": "stream",
     "text": [
      "/tmp/ipykernel_28/4158918585.py:1: DeprecationWarning: \n",
      "Pyarrow will become a required dependency of pandas in the next major release of pandas (pandas 3.0),\n",
      "(to allow more performant data types, such as the Arrow string type, and better interoperability with other libraries)\n",
      "but was not found to be installed on your system.\n",
      "If this would cause problems for you,\n",
      "please provide us feedback at https://github.com/pandas-dev/pandas/issues/54466\n",
      "        \n",
      "  import pandas as pd\n"
     ]
    }
   ],
   "source": [
    "import pandas as pd\n",
    "import pymongo\n",
    "from pymongo import MongoClient"
   ]
  },
  {
   "cell_type": "code",
   "execution_count": 4,
   "id": "30e71192",
   "metadata": {},
   "outputs": [],
   "source": [
    "import os\n",
    "mongo_uri = os.environ.get('MONGO_URI')\n",
    "client = MongoClient(mongo_uri)\n",
    "db = client.get_database()\n",
    "collection = db['raw_news']"
   ]
  },
  {
   "cell_type": "code",
   "execution_count": 36,
   "id": "f3a0a9ec-b6df-498a-b5af-116874e51683",
   "metadata": {},
   "outputs": [],
   "source": [
    "data = collection.find()"
   ]
  },
  {
   "cell_type": "code",
   "execution_count": 5,
   "id": "efee898d-b4ce-425a-8c16-9cae34d58c9a",
   "metadata": {},
   "outputs": [],
   "source": [
    "#clean data in raw_news and store in the new collection (clean_news).\n",
    "if 'clean_news' not in db.list_collection_names():\n",
    "    db.create_collection('clean_news')\n",
    "else:\n",
    "    # Xóa dữ liệu cũ trong clean_news (nếu muốn refresh)\n",
    "    clean_collection.delete_many({})"
   ]
  },
  {
   "cell_type": "code",
   "execution_count": 7,
   "id": "41dd577f-355d-42e0-8aa1-20f8a1caaf1a",
   "metadata": {},
   "outputs": [
    {
     "name": "stdout",
     "output_type": "stream",
     "text": [
      "300\n"
     ]
    }
   ],
   "source": [
    "raw_data = list(collection.find())\n",
    "print(f\"{len(raw_data)}\")"
   ]
  },
  {
   "cell_type": "code",
   "execution_count": 16,
   "id": "bf928aa8-2d88-4de0-a7b1-cbddc06e89f4",
   "metadata": {},
   "outputs": [
    {
     "name": "stderr",
     "output_type": "stream",
     "text": [
      "[nltk_data] Downloading package punkt to /root/nltk_data...\n",
      "[nltk_data]   Unzipping tokenizers/punkt.zip.\n",
      "[nltk_data] Downloading package stopwords to /root/nltk_data...\n",
      "[nltk_data]   Unzipping corpora/stopwords.zip.\n"
     ]
    }
   ],
   "source": [
    "import re\n",
    "from nltk.corpus import stopwords\n",
    "from nltk.tokenize import word_tokenize\n",
    "import nltk\n",
    "\n",
    "try:\n",
    "    nltk.data.find('tokenizers/punkt')\n",
    "except LookupError:\n",
    "    nltk.download('punkt')\n",
    "    \n",
    "try:\n",
    "    nltk.data.find('corpora/stopwords')\n",
    "except LookupError:\n",
    "    nltk.download('stopwords')\n",
    "    \n",
    "vietnamese_stopwords = set(stopwords.words('english'))"
   ]
  },
  {
   "cell_type": "code",
   "execution_count": 17,
   "id": "8d50a72b-f261-4f73-ac42-0a8e15cdfe22",
   "metadata": {},
   "outputs": [],
   "source": [
    "def normalize_text(text):\n",
    "    if not text or not isinstance(text, str):\n",
    "        return \"\"\n",
    "    \n",
    "    # Chuyển thành chữ thường\n",
    "    text = text.lower()\n",
    "    \n",
    "    # Loại bỏ các ký tự đặc biệt, giữ lại chữ và số\n",
    "    text = re.sub(r'[^\\w\\s]', ' ', text)\n",
    "    \n",
    "    # Loại bỏ URLs\n",
    "    text = re.sub(r'http\\S+', '', text)\n",
    "    \n",
    "    # Loại bỏ số\n",
    "    text = re.sub(r'\\d+', '', text)\n",
    "    \n",
    "    # Loại bỏ các khoảng trắng thừa\n",
    "    text = re.sub(r'\\s+', ' ', text).strip()\n",
    "    \n",
    "    # Loại bỏ stopwords\n",
    "    tokens = word_tokenize(text)\n",
    "    filtered_tokens = [word for word in tokens if word not in vietnamese_stopwords]\n",
    "    \n",
    "    return ' '.join(filtered_tokens)"
   ]
  },
  {
   "cell_type": "code",
   "execution_count": 18,
   "id": "60c2e4be-20d4-43f5-9f4f-ae3b5707541c",
   "metadata": {},
   "outputs": [],
   "source": [
    "clean_data = []\n",
    "for article in raw_data:\n",
    "    clean_article = {\n",
    "        'title': article.get('title', ''),\n",
    "        'clean_content': normalize_text(article.get('content', '')),\n",
    "        'sentiment': article.get('sentiment', ''),\n",
    "        'url': article.get('url', '')\n",
    "    }\n",
    "    clean_data.append(clean_article)"
   ]
  },
  {
   "cell_type": "code",
   "execution_count": 21,
   "id": "5db1b28f-7c2c-4657-a28f-0b1a61c57393",
   "metadata": {},
   "outputs": [
    {
     "name": "stdout",
     "output_type": "stream",
     "text": [
      "Đã chuẩn hóa và lưu 300 bài báo vào clean_news\n"
     ]
    }
   ],
   "source": [
    "clean_collection = db[\"clean_news\"]\n",
    "if clean_data:\n",
    "    clean_collection.insert_many(clean_data)\n",
    "    print(f\"Normalize and store {len(clean_data)} to clean_news\")\n",
    "else:\n",
    "    print(\"Nun, shikanokonokonoko tan tan tan\")"
   ]
  },
  {
   "cell_type": "code",
   "execution_count": 23,
   "id": "bff77b8b-1bc5-4bbf-865a-872093b6ea06",
   "metadata": {},
   "outputs": [
    {
     "data": {
      "text/plain": [
       "{'_id': ObjectId('67beb3f36f9eb680ed5697b9'),\n",
       " 'title': \"Chục cổ phiếu tăng trần khi chứng khoán 'xanh vỏ, đỏ lòng'\",\n",
       " 'clean_content': 'chứng khoán hôm nay có phần lớn thời gian giữ sắc xanh nhưng biên độ không cao trong phiên chỉ số đại diện sàn hose có hai đợt rung lắc một vào giữa buổi sáng khi về sát tham chiếu còn lại là sau h bị kéo giảm điểm ncải thiện trong những phút cuối phiên vn index đóng cửa tiệm cận điểm tăng gần điểm với hôm qua tuy nhiên thị trường rơi vào trạng thái xanh vỏ đỏ lòng khi lượng cổ phiếu tăng chỉ ghi nhận mã ít hơn với mã đi lùi nchỉ số chung có bệ đỡ từ nhóm ngân hàng trong đó dẫn đầu là vcb trong khi các nhóm có vốn hóa lớn khác thuộc ngành chứng khoán bất động sản thép phân hóa mạnh nhiều mã gặp áp lực điều chỉnh ncác cổ phiếu có vốn hóa vừa diễn biến khá tiêu cực còn nhóm vốn hóa nhỏ cũng dần hạ nhiệt trong hôm nay tuy vậy sàn hose vẫn ghi nhận mã tăng hết biên độ đều thuộc nhóm kể trên các cổ phiếu này tăng mạnh nhưng thanh khoản nhỏ giọt có mã chỉ khớp lệnh vài triệu đồng st ldg thg hay bbc là những đại diện nổi bật hơn hẳn nriêng cổ phiếu tập đoàn st đã được nhuộm sắc tím liên tiếp phiên trong tuần này thị giá đã tích lũy năm trước doanh thu st đạt gần tỷ đồng gấp hơn lần với năm lợi nhuận sau thuế đạt gần tỷ đồng tăng gần lần với cùng kỳ ncông ty ban đầu bán thiết bị văn phòng sau đó lấn sang mảng kinh doanh ôtô trong giai đoạn thành lập honda kim thanh đến năm họ bán hàng loạt công ty con thoái vốn mảng ôtô và chuyển sang bất động sản với dự án trầm hương resorts tuy nhiên nguồn thu chính trong năm trước lại đến từ việc có được nhiều hợp đồng trong lĩnh vực nông sản và các ngành liên quan nthanh khoản trở lại diễn biến ngược chiều điểm số tổng giá trị giao dịch trên hose đạt hơn tỷ đồng giảm gần tỷ với phiên trước nhà đầu tư nước ngoài tiếp tục bán ròng nhưng giá trị chỉ bằng phân nửa hôm qua ghi nhận khoảng tỷ đồng ntất đạt',\n",
       " 'sentiment': 'neutral',\n",
       " 'url': 'https://vnexpress.net/chung-khoan-hom-nay-21-2-chuc-co-phieu-tang-tran-khi-vn-index-xanh-vo-do-long-4852417.html'}"
      ]
     },
     "execution_count": 23,
     "metadata": {},
     "output_type": "execute_result"
    }
   ],
   "source": [
    "clean_collection.find_one()"
   ]
  },
  {
   "cell_type": "code",
   "execution_count": null,
   "id": "ddefffe9-c968-4baf-9b29-044edabddb1c",
   "metadata": {},
   "outputs": [],
   "source": []
  }
 ],
 "metadata": {
  "kernelspec": {
   "display_name": "Python 3 (ipykernel)",
   "language": "python",
   "name": "python3"
  },
  "language_info": {
   "codemirror_mode": {
    "name": "ipython",
    "version": 3
   },
   "file_extension": ".py",
   "mimetype": "text/x-python",
   "name": "python",
   "nbconvert_exporter": "python",
   "pygments_lexer": "ipython3",
   "version": "3.9.21"
  }
 },
 "nbformat": 4,
 "nbformat_minor": 5
}
